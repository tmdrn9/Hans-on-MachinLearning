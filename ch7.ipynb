{
  "nbformat": 4,
  "nbformat_minor": 0,
  "metadata": {
    "colab": {
      "name": "ch7.ipynb",
      "provenance": []
    },
    "kernelspec": {
      "name": "python3",
      "display_name": "Python 3"
    },
    "language_info": {
      "name": "python"
    }
  },
  "cells": [
    {
      "cell_type": "code",
      "metadata": {
        "id": "sifFnIMTQkqG"
      },
      "source": [
        "import sys\n",
        "import sklearn\n",
        "import numpy as np\n",
        "import os\n",
        "\n",
        "np.random.seed(42)\n",
        "\n",
        "# 깔끔한 그래프 출력을 위해\n",
        "%matplotlib inline\n",
        "import matplotlib as mpl\n",
        "import matplotlib.pyplot as plt\n",
        "mpl.rc('axes', labelsize=14)\n",
        "mpl.rc('xtick', labelsize=12)\n",
        "mpl.rc('ytick', labelsize=12)\n"
      ],
      "execution_count": 1,
      "outputs": []
    },
    {
      "cell_type": "code",
      "metadata": {
        "id": "asNkbFIaRQbT"
      },
      "source": [
        "from sklearn.model_selection import train_test_split\n",
        "from sklearn.datasets import make_moons\n",
        "\n",
        "X, y = make_moons(n_samples=500, noise=0.30, random_state=42)\n",
        "X_train, X_test, y_train, y_test = train_test_split(X, y, random_state=42)"
      ],
      "execution_count": 2,
      "outputs": []
    },
    {
      "cell_type": "markdown",
      "metadata": {
        "id": "xYWqNmANVIYF"
      },
      "source": [
        "투표기반 분류기"
      ]
    },
    {
      "cell_type": "code",
      "metadata": {
        "colab": {
          "base_uri": "https://localhost:8080/"
        },
        "id": "eH1qYh_LRQXi",
        "outputId": "53465ac6-55b3-49af-dbd2-6f0e759f6996"
      },
      "source": [
        "from sklearn.ensemble import RandomForestClassifier\n",
        "from sklearn.ensemble import VotingClassifier\n",
        "from sklearn.linear_model import LogisticRegression\n",
        "from sklearn.svm import SVC\n",
        "\n",
        "log_clf=LogisticRegression()\n",
        "rnd_clf=RandomForestClassifier()\n",
        "svm_clf=SVC()\n",
        "\n",
        "voting_clf=VotingClassifier(\n",
        "    estimators=[('lr',log_clf),('rf',rnd_clf),('svc',svm_clf)],\n",
        "    voting='hard'\n",
        ")\n",
        "\n",
        "voting_clf.fit(X_train,y_train)"
      ],
      "execution_count": 3,
      "outputs": [
        {
          "output_type": "execute_result",
          "data": {
            "text/plain": [
              "VotingClassifier(estimators=[('lr',\n",
              "                              LogisticRegression(C=1.0, class_weight=None,\n",
              "                                                 dual=False, fit_intercept=True,\n",
              "                                                 intercept_scaling=1,\n",
              "                                                 l1_ratio=None, max_iter=100,\n",
              "                                                 multi_class='auto',\n",
              "                                                 n_jobs=None, penalty='l2',\n",
              "                                                 random_state=None,\n",
              "                                                 solver='lbfgs', tol=0.0001,\n",
              "                                                 verbose=0, warm_start=False)),\n",
              "                             ('rf',\n",
              "                              RandomForestClassifier(bootstrap=True,\n",
              "                                                     ccp_alpha=0.0,\n",
              "                                                     class_weight=None,\n",
              "                                                     cr...\n",
              "                                                     oob_score=False,\n",
              "                                                     random_state=None,\n",
              "                                                     verbose=0,\n",
              "                                                     warm_start=False)),\n",
              "                             ('svc',\n",
              "                              SVC(C=1.0, break_ties=False, cache_size=200,\n",
              "                                  class_weight=None, coef0=0.0,\n",
              "                                  decision_function_shape='ovr', degree=3,\n",
              "                                  gamma='scale', kernel='rbf', max_iter=-1,\n",
              "                                  probability=False, random_state=None,\n",
              "                                  shrinking=True, tol=0.001, verbose=False))],\n",
              "                 flatten_transform=True, n_jobs=None, voting='hard',\n",
              "                 weights=None)"
            ]
          },
          "metadata": {
            "tags": []
          },
          "execution_count": 3
        }
      ]
    },
    {
      "cell_type": "code",
      "metadata": {
        "colab": {
          "base_uri": "https://localhost:8080/"
        },
        "id": "GzakKB6kRQVe",
        "outputId": "9c96434a-d31b-4b62-a8ab-4832d99cfa4a"
      },
      "source": [
        "from sklearn.metrics import accuracy_score\n",
        "for clf in (log_clf,rnd_clf,svm_clf,voting_clf):\n",
        "  clf.fit(X_train,y_train)\n",
        "  y_pred=clf.predict(X_test)\n",
        "  print(clf.__class__.__name__,accuracy_score(y_test,y_pred))"
      ],
      "execution_count": 5,
      "outputs": [
        {
          "output_type": "stream",
          "text": [
            "LogisticRegression 0.864\n",
            "RandomForestClassifier 0.904\n",
            "SVC 0.896\n",
            "VotingClassifier 0.904\n"
          ],
          "name": "stdout"
        }
      ]
    },
    {
      "cell_type": "markdown",
      "metadata": {
        "id": "ipVUXqmmVMJI"
      },
      "source": [
        "배깅과 페이스팅"
      ]
    },
    {
      "cell_type": "code",
      "metadata": {
        "colab": {
          "base_uri": "https://localhost:8080/"
        },
        "id": "us3G9bBtRQSe",
        "outputId": "0a1ebd0c-38dc-4906-eb57-4db758efd1d6"
      },
      "source": [
        "from sklearn.ensemble import BaggingClassifier\n",
        "from sklearn.tree import DecisionTreeClassifier\n",
        "\n",
        "bag_clf=BaggingClassifier(\n",
        "    DecisionTreeClassifier(),bootstrap=True, n_jobs=-1,\n",
        "    n_estimators=500, max_samples=100)\n",
        "\n",
        "bag_clf.fit(X_train,y_train)\n",
        "y_pred_=bag_clf.predict(X_test)\n",
        "print(accuracy_score(y_test, y_pred_))"
      ],
      "execution_count": 7,
      "outputs": [
        {
          "output_type": "stream",
          "text": [
            "0.904\n"
          ],
          "name": "stdout"
        }
      ]
    },
    {
      "cell_type": "markdown",
      "metadata": {
        "id": "Gy5S3fAaVZ3q"
      },
      "source": [
        "oob평가"
      ]
    },
    {
      "cell_type": "code",
      "metadata": {
        "colab": {
          "base_uri": "https://localhost:8080/"
        },
        "id": "BHsMpqKJRQPZ",
        "outputId": "97b1c3a4-903e-4bc8-9b73-0d6a3551c796"
      },
      "source": [
        "bag_clf2=BaggingClassifier(\n",
        "    DecisionTreeClassifier(),oob_score=True, bootstrap=True, n_jobs=-1,\n",
        "    n_estimators=500, max_samples=100)\n",
        "\n",
        "bag_clf2.fit(X_train,y_train)\n",
        "bag_clf2.oob_score_"
      ],
      "execution_count": 10,
      "outputs": [
        {
          "output_type": "execute_result",
          "data": {
            "text/plain": [
              "0.928"
            ]
          },
          "metadata": {
            "tags": []
          },
          "execution_count": 10
        }
      ]
    },
    {
      "cell_type": "code",
      "metadata": {
        "colab": {
          "base_uri": "https://localhost:8080/"
        },
        "id": "r1hZAm_eRQLN",
        "outputId": "e7d1ba63-c22a-4068-b7b3-f5a91cf855e2"
      },
      "source": [
        "y_pred_bag=bag_clf2.predict(X_test)\n",
        "accuracy_score(y_test,y_pred_bag)"
      ],
      "execution_count": 11,
      "outputs": [
        {
          "output_type": "execute_result",
          "data": {
            "text/plain": [
              "0.92"
            ]
          },
          "metadata": {
            "tags": []
          },
          "execution_count": 11
        }
      ]
    },
    {
      "cell_type": "code",
      "metadata": {
        "colab": {
          "base_uri": "https://localhost:8080/"
        },
        "id": "rziSt4LkRQHr",
        "outputId": "6dc60a9a-aa4a-4685-b3ca-d40feeacaaf0"
      },
      "source": [
        "bag_clf2.oob_decision_function_"
      ],
      "execution_count": 12,
      "outputs": [
        {
          "output_type": "execute_result",
          "data": {
            "text/plain": [
              "array([[0.34782609, 0.65217391],\n",
              "       [0.40885417, 0.59114583],\n",
              "       [1.        , 0.        ],\n",
              "       [0.0127551 , 0.9872449 ],\n",
              "       [0.02439024, 0.97560976],\n",
              "       [0.09259259, 0.90740741],\n",
              "       [0.42076503, 0.57923497],\n",
              "       [0.06410256, 0.93589744],\n",
              "       [0.93846154, 0.06153846],\n",
              "       [0.82978723, 0.17021277],\n",
              "       [0.56623377, 0.43376623],\n",
              "       [0.03896104, 0.96103896],\n",
              "       [0.728     , 0.272     ],\n",
              "       [0.8320802 , 0.1679198 ],\n",
              "       [0.90514905, 0.09485095],\n",
              "       [0.08376963, 0.91623037],\n",
              "       [0.02583979, 0.97416021],\n",
              "       [0.95275591, 0.04724409],\n",
              "       [0.66490765, 0.33509235],\n",
              "       [0.95135135, 0.04864865],\n",
              "       [0.04591837, 0.95408163],\n",
              "       [0.2159383 , 0.7840617 ],\n",
              "       [0.85978836, 0.14021164],\n",
              "       [0.99242424, 0.00757576],\n",
              "       [0.95064935, 0.04935065],\n",
              "       [0.00280112, 0.99719888],\n",
              "       [0.9507772 , 0.0492228 ],\n",
              "       [1.        , 0.        ],\n",
              "       [0.01574803, 0.98425197],\n",
              "       [0.70976253, 0.29023747],\n",
              "       [0.        , 1.        ],\n",
              "       [1.        , 0.        ],\n",
              "       [0.00779221, 0.99220779],\n",
              "       [0.07012987, 0.92987013],\n",
              "       [0.09020619, 0.90979381],\n",
              "       [0.97416021, 0.02583979],\n",
              "       [0.00773196, 0.99226804],\n",
              "       [0.52956989, 0.47043011],\n",
              "       [0.00259067, 0.99740933],\n",
              "       [0.9872449 , 0.0127551 ],\n",
              "       [0.08443272, 0.91556728],\n",
              "       [0.34770889, 0.65229111],\n",
              "       [1.        , 0.        ],\n",
              "       [0.9921466 , 0.0078534 ],\n",
              "       [0.00515464, 0.99484536],\n",
              "       [0.9973822 , 0.0026178 ],\n",
              "       [1.        , 0.        ],\n",
              "       [0.05039788, 0.94960212],\n",
              "       [0.97889182, 0.02110818],\n",
              "       [0.03804348, 0.96195652],\n",
              "       [0.96      , 0.04      ],\n",
              "       [0.82228117, 0.17771883],\n",
              "       [0.9296875 , 0.0703125 ],\n",
              "       [0.79533679, 0.20466321],\n",
              "       [0.01243781, 0.98756219],\n",
              "       [0.11928934, 0.88071066],\n",
              "       [0.81697613, 0.18302387],\n",
              "       [0.02362205, 0.97637795],\n",
              "       [0.03108808, 0.96891192],\n",
              "       [0.04444444, 0.95555556],\n",
              "       [0.83597884, 0.16402116],\n",
              "       [0.60313316, 0.39686684],\n",
              "       [0.7525    , 0.2475    ],\n",
              "       [0.99220779, 0.00779221],\n",
              "       [0.02284264, 0.97715736],\n",
              "       [0.77806789, 0.22193211],\n",
              "       [0.984375  , 0.015625  ],\n",
              "       [0.98918919, 0.01081081],\n",
              "       [0.65116279, 0.34883721],\n",
              "       [0.98717949, 0.01282051],\n",
              "       [0.375     , 0.625     ],\n",
              "       [0.30997305, 0.69002695],\n",
              "       [0.42821159, 0.57178841],\n",
              "       [0.70379747, 0.29620253],\n",
              "       [0.        , 1.        ],\n",
              "       [0.3060686 , 0.6939314 ],\n",
              "       [0.85185185, 0.14814815],\n",
              "       [1.        , 0.        ],\n",
              "       [0.02061856, 0.97938144],\n",
              "       [0.94778068, 0.05221932],\n",
              "       [0.00779221, 0.99220779],\n",
              "       [0.23015873, 0.76984127],\n",
              "       [0.15831135, 0.84168865],\n",
              "       [0.46907216, 0.53092784],\n",
              "       [0.98941799, 0.01058201],\n",
              "       [0.02040816, 0.97959184],\n",
              "       [0.65326633, 0.34673367],\n",
              "       [0.05291005, 0.94708995],\n",
              "       [0.02486188, 0.97513812],\n",
              "       [0.        , 1.        ],\n",
              "       [0.34316354, 0.65683646],\n",
              "       [1.        , 0.        ],\n",
              "       [0.0078125 , 0.9921875 ],\n",
              "       [0.05194805, 0.94805195],\n",
              "       [0.02835052, 0.97164948],\n",
              "       [0.81052632, 0.18947368],\n",
              "       [0.67688022, 0.32311978],\n",
              "       [0.07888041, 0.92111959],\n",
              "       [1.        , 0.        ],\n",
              "       [0.3203125 , 0.6796875 ],\n",
              "       [0.68965517, 0.31034483],\n",
              "       [0.00542005, 0.99457995],\n",
              "       [0.08994709, 0.91005291],\n",
              "       [0.46858639, 0.53141361],\n",
              "       [0.96134021, 0.03865979],\n",
              "       [0.04761905, 0.95238095],\n",
              "       [0.96587927, 0.03412073],\n",
              "       [0.38701299, 0.61298701],\n",
              "       [0.2746114 , 0.7253886 ],\n",
              "       [1.        , 0.        ],\n",
              "       [0.2348285 , 0.7651715 ],\n",
              "       [0.84223919, 0.15776081],\n",
              "       [0.26038781, 0.73961219],\n",
              "       [0.79639175, 0.20360825],\n",
              "       [0.98691099, 0.01308901],\n",
              "       [0.98966408, 0.01033592],\n",
              "       [0.        , 1.        ],\n",
              "       [0.        , 1.        ],\n",
              "       [0.51780822, 0.48219178],\n",
              "       [0.9972973 , 0.0027027 ],\n",
              "       [0.0678392 , 0.9321608 ],\n",
              "       [0.99477807, 0.00522193],\n",
              "       [0.97368421, 0.02631579],\n",
              "       [1.        , 0.        ],\n",
              "       [0.94473684, 0.05526316],\n",
              "       [0.98055556, 0.01944444],\n",
              "       [0.04010695, 0.95989305],\n",
              "       [0.94070081, 0.05929919],\n",
              "       [0.960199  , 0.039801  ],\n",
              "       [0.02116402, 0.97883598],\n",
              "       [0.24878049, 0.75121951],\n",
              "       [0.87341772, 0.12658228],\n",
              "       [0.39480519, 0.60519481],\n",
              "       [0.93783784, 0.06216216],\n",
              "       [0.00266667, 0.99733333],\n",
              "       [0.0265252 , 0.9734748 ],\n",
              "       [0.83165829, 0.16834171],\n",
              "       [0.73209549, 0.26790451],\n",
              "       [0.53351206, 0.46648794],\n",
              "       [0.88      , 0.12      ],\n",
              "       [0.94010417, 0.05989583],\n",
              "       [0.12371134, 0.87628866],\n",
              "       [0.80462725, 0.19537275],\n",
              "       [0.04851752, 0.95148248],\n",
              "       [0.00755668, 0.99244332],\n",
              "       [0.1202046 , 0.8797954 ],\n",
              "       [0.77604167, 0.22395833],\n",
              "       [0.98148148, 0.01851852],\n",
              "       [1.        , 0.        ],\n",
              "       [0.03225806, 0.96774194],\n",
              "       [0.00263852, 0.99736148],\n",
              "       [0.04889976, 0.95110024],\n",
              "       [0.02564103, 0.97435897],\n",
              "       [0.9973545 , 0.0026455 ],\n",
              "       [0.97222222, 0.02777778],\n",
              "       [0.91056911, 0.08943089],\n",
              "       [0.99731183, 0.00268817],\n",
              "       [1.        , 0.        ],\n",
              "       [0.9025641 , 0.0974359 ],\n",
              "       [0.00763359, 0.99236641],\n",
              "       [0.67624021, 0.32375979],\n",
              "       [0.36666667, 0.63333333],\n",
              "       [0.06233766, 0.93766234],\n",
              "       [0.00510204, 0.99489796],\n",
              "       [0.34517766, 0.65482234],\n",
              "       [1.        , 0.        ],\n",
              "       [0.96073298, 0.03926702],\n",
              "       [0.        , 1.        ],\n",
              "       [0.9921671 , 0.0078329 ],\n",
              "       [0.03797468, 0.96202532],\n",
              "       [0.00255754, 0.99744246],\n",
              "       [0.93403694, 0.06596306],\n",
              "       [0.01012658, 0.98987342],\n",
              "       [0.        , 1.        ],\n",
              "       [1.        , 0.        ],\n",
              "       [0.02949062, 0.97050938],\n",
              "       [0.84615385, 0.15384615],\n",
              "       [0.92572944, 0.07427056],\n",
              "       [0.0273224 , 0.9726776 ],\n",
              "       [0.96455696, 0.03544304],\n",
              "       [0.90566038, 0.09433962],\n",
              "       [0.9787234 , 0.0212766 ],\n",
              "       [0.01038961, 0.98961039],\n",
              "       [0.00757576, 0.99242424],\n",
              "       [0.98684211, 0.01315789],\n",
              "       [0.24543081, 0.75456919],\n",
              "       [0.99739583, 0.00260417],\n",
              "       [0.11497326, 0.88502674],\n",
              "       [0.01322751, 0.98677249],\n",
              "       [0.99477807, 0.00522193],\n",
              "       [0.        , 1.        ],\n",
              "       [0.17241379, 0.82758621],\n",
              "       [0.91176471, 0.08823529],\n",
              "       [0.93169399, 0.06830601],\n",
              "       [0.63157895, 0.36842105],\n",
              "       [0.68157895, 0.31842105],\n",
              "       [0.03243243, 0.96756757],\n",
              "       [0.28211587, 0.71788413],\n",
              "       [0.98677249, 0.01322751],\n",
              "       [0.9076087 , 0.0923913 ],\n",
              "       [0.89617486, 0.10382514],\n",
              "       [0.98680739, 0.01319261],\n",
              "       [0.05699482, 0.94300518],\n",
              "       [0.01308901, 0.98691099],\n",
              "       [0.07692308, 0.92307692],\n",
              "       [0.55670103, 0.44329897],\n",
              "       [0.        , 1.        ],\n",
              "       [0.01554404, 0.98445596],\n",
              "       [0.9611399 , 0.0388601 ],\n",
              "       [0.08270677, 0.91729323],\n",
              "       [0.09186352, 0.90813648],\n",
              "       [0.87566138, 0.12433862],\n",
              "       [0.03684211, 0.96315789],\n",
              "       [0.31619537, 0.68380463],\n",
              "       [0.00759494, 0.99240506],\n",
              "       [1.        , 0.        ],\n",
              "       [0.01069519, 0.98930481],\n",
              "       [0.01061008, 0.98938992],\n",
              "       [0.92204301, 0.07795699],\n",
              "       [0.86233766, 0.13766234],\n",
              "       [0.95978552, 0.04021448],\n",
              "       [0.01550388, 0.98449612],\n",
              "       [0.07915567, 0.92084433],\n",
              "       [0.95800525, 0.04199475],\n",
              "       [0.11052632, 0.88947368],\n",
              "       [0.        , 1.        ],\n",
              "       [0.27777778, 0.72222222],\n",
              "       [0.97587131, 0.02412869],\n",
              "       [0.84084881, 0.15915119],\n",
              "       [0.09615385, 0.90384615],\n",
              "       [0.76470588, 0.23529412],\n",
              "       [0.9321608 , 0.0678392 ],\n",
              "       [0.16919192, 0.83080808],\n",
              "       [0.16358839, 0.83641161],\n",
              "       [0.99744898, 0.00255102],\n",
              "       [0.        , 1.        ],\n",
              "       [0.01282051, 0.98717949],\n",
              "       [0.02917772, 0.97082228],\n",
              "       [0.34837093, 0.65162907],\n",
              "       [0.85969388, 0.14030612],\n",
              "       [0.06      , 0.94      ],\n",
              "       [0.99744898, 0.00255102],\n",
              "       [0.87206266, 0.12793734],\n",
              "       [0.        , 1.        ],\n",
              "       [0.74932615, 0.25067385],\n",
              "       [0.98941799, 0.01058201],\n",
              "       [0.01243781, 0.98756219],\n",
              "       [1.        , 0.        ],\n",
              "       [0.06527415, 0.93472585],\n",
              "       [0.0132626 , 0.9867374 ],\n",
              "       [0.11968085, 0.88031915],\n",
              "       [0.26943005, 0.73056995],\n",
              "       [0.86040609, 0.13959391],\n",
              "       [0.05291005, 0.94708995],\n",
              "       [0.99491094, 0.00508906],\n",
              "       [0.65079365, 0.34920635],\n",
              "       [0.11351351, 0.88648649],\n",
              "       [0.69190601, 0.30809399],\n",
              "       [0.82564103, 0.17435897],\n",
              "       [0.01272265, 0.98727735],\n",
              "       [1.        , 0.        ],\n",
              "       [0.02319588, 0.97680412],\n",
              "       [0.        , 1.        ],\n",
              "       [0.75537634, 0.24462366],\n",
              "       [0.        , 1.        ],\n",
              "       [0.9973822 , 0.0026178 ],\n",
              "       [0.09756098, 0.90243902],\n",
              "       [0.76902174, 0.23097826],\n",
              "       [0.11868687, 0.88131313],\n",
              "       [1.        , 0.        ],\n",
              "       [0.84675325, 0.15324675],\n",
              "       [0.00769231, 0.99230769],\n",
              "       [0.07216495, 0.92783505],\n",
              "       [0.1322314 , 0.8677686 ],\n",
              "       [0.08767123, 0.91232877],\n",
              "       [0.        , 1.        ],\n",
              "       [0.98944591, 0.01055409],\n",
              "       [0.86787565, 0.13212435],\n",
              "       [0.21558442, 0.78441558],\n",
              "       [0.93434343, 0.06565657],\n",
              "       [0.06970509, 0.93029491],\n",
              "       [0.59840426, 0.40159574],\n",
              "       [0.11684783, 0.88315217],\n",
              "       [0.95865633, 0.04134367],\n",
              "       [0.89247312, 0.10752688],\n",
              "       [0.00744417, 0.99255583],\n",
              "       [0.95300261, 0.04699739],\n",
              "       [0.8987013 , 0.1012987 ],\n",
              "       [0.        , 1.        ],\n",
              "       [0.04113111, 0.95886889],\n",
              "       [1.        , 0.        ],\n",
              "       [0.02222222, 0.97777778],\n",
              "       [0.98421053, 0.01578947],\n",
              "       [0.08877285, 0.91122715],\n",
              "       [0.90151515, 0.09848485],\n",
              "       [1.        , 0.        ],\n",
              "       [0.00791557, 0.99208443],\n",
              "       [0.02933333, 0.97066667],\n",
              "       [0.66578947, 0.33421053],\n",
              "       [0.        , 1.        ],\n",
              "       [1.        , 0.        ],\n",
              "       [0.6865285 , 0.3134715 ],\n",
              "       [0.85492228, 0.14507772],\n",
              "       [1.        , 0.        ],\n",
              "       [0.6758794 , 0.3241206 ],\n",
              "       [0.46464646, 0.53535354],\n",
              "       [0.01269036, 0.98730964],\n",
              "       [0.83510638, 0.16489362],\n",
              "       [0.00835655, 0.99164345],\n",
              "       [1.        , 0.        ],\n",
              "       [0.76266667, 0.23733333],\n",
              "       [1.        , 0.        ],\n",
              "       [1.        , 0.        ],\n",
              "       [0.82901554, 0.17098446],\n",
              "       [0.26259947, 0.73740053],\n",
              "       [0.15555556, 0.84444444],\n",
              "       [0.26732673, 0.73267327],\n",
              "       [0.        , 1.        ],\n",
              "       [0.79197995, 0.20802005],\n",
              "       [0.8856383 , 0.1143617 ],\n",
              "       [0.03636364, 0.96363636],\n",
              "       [0.99737533, 0.00262467],\n",
              "       [0.96984925, 0.03015075],\n",
              "       [0.99733333, 0.00266667],\n",
              "       [0.00257069, 0.99742931],\n",
              "       [0.07329843, 0.92670157],\n",
              "       [0.90956072, 0.09043928],\n",
              "       [0.90789474, 0.09210526],\n",
              "       [1.        , 0.        ],\n",
              "       [0.22307692, 0.77692308],\n",
              "       [0.99470899, 0.00529101],\n",
              "       [0.12339332, 0.87660668],\n",
              "       [0.93947368, 0.06052632],\n",
              "       [0.07084469, 0.92915531],\n",
              "       [0.99736842, 0.00263158],\n",
              "       [0.992     , 0.008     ],\n",
              "       [0.98465473, 0.01534527],\n",
              "       [0.        , 1.        ],\n",
              "       [0.93010753, 0.06989247],\n",
              "       [0.0106383 , 0.9893617 ],\n",
              "       [0.06315789, 0.93684211],\n",
              "       [0.03989362, 0.96010638],\n",
              "       [0.        , 1.        ],\n",
              "       [1.        , 0.        ],\n",
              "       [0.98465473, 0.01534527],\n",
              "       [0.        , 1.        ],\n",
              "       [0.95789474, 0.04210526],\n",
              "       [0.07894737, 0.92105263],\n",
              "       [0.99468085, 0.00531915],\n",
              "       [0.21832884, 0.78167116],\n",
              "       [0.00512821, 0.99487179],\n",
              "       [0.06684492, 0.93315508],\n",
              "       [0.        , 1.        ],\n",
              "       [0.83631714, 0.16368286],\n",
              "       [0.10483871, 0.89516129],\n",
              "       [0.12176166, 0.87823834],\n",
              "       [1.        , 0.        ],\n",
              "       [0.94344473, 0.05655527],\n",
              "       [0.24054054, 0.75945946],\n",
              "       [0.95064935, 0.04935065],\n",
              "       [0.06933333, 0.93066667],\n",
              "       [0.09625668, 0.90374332],\n",
              "       [1.        , 0.        ],\n",
              "       [0.93193717, 0.06806283],\n",
              "       [0.55927835, 0.44072165],\n",
              "       [0.87628866, 0.12371134],\n",
              "       [1.        , 0.        ],\n",
              "       [0.01546392, 0.98453608],\n",
              "       [0.96401028, 0.03598972],\n",
              "       [0.05614973, 0.94385027],\n",
              "       [0.1511335 , 0.8488665 ],\n",
              "       [0.93963255, 0.06036745],\n",
              "       [1.        , 0.        ],\n",
              "       [0.07446809, 0.92553191],\n",
              "       [0.72207792, 0.27792208]])"
            ]
          },
          "metadata": {
            "tags": []
          },
          "execution_count": 12
        }
      ]
    },
    {
      "cell_type": "markdown",
      "metadata": {
        "id": "WHjoz0DkVm4H"
      },
      "source": [
        "랜덤포레스트"
      ]
    },
    {
      "cell_type": "code",
      "metadata": {
        "colab": {
          "base_uri": "https://localhost:8080/"
        },
        "id": "o6NZSX3iRQE2",
        "outputId": "91a28cc5-8fae-419b-c97c-01414867711d"
      },
      "source": [
        "rf_clf=RandomForestClassifier(n_estimators=500,max_leaf_nodes=16,n_jobs=-1)\n",
        "rf_clf.fit(X_train,y_train)\n",
        "\n",
        "y_pred_rf=rf_clf.predict(X_test)\n",
        "accuracy_score(y_test,y_pred_rf)"
      ],
      "execution_count": 13,
      "outputs": [
        {
          "output_type": "execute_result",
          "data": {
            "text/plain": [
              "0.912"
            ]
          },
          "metadata": {
            "tags": []
          },
          "execution_count": 13
        }
      ]
    },
    {
      "cell_type": "markdown",
      "metadata": {
        "id": "safboMZZWNf8"
      },
      "source": [
        "특성 중요도"
      ]
    },
    {
      "cell_type": "code",
      "metadata": {
        "colab": {
          "base_uri": "https://localhost:8080/"
        },
        "id": "GO0EEQhDWPMK",
        "outputId": "7bc6da52-079d-4ce7-ec28-29dbf547e6de"
      },
      "source": [
        "from sklearn.datasets import load_iris\n",
        "iris=load_iris()\n",
        "rnd_clf=RandomForestClassifier(n_estimators=500,n_jobs=-1)\n",
        "rnd_clf.fit(iris[\"data\"],iris[\"target\"])\n",
        "for name,score in zip(iris[\"feature_names\"],rnd_clf.feature_importances_):\n",
        "  print(name,score)"
      ],
      "execution_count": 14,
      "outputs": [
        {
          "output_type": "stream",
          "text": [
            "sepal length (cm) 0.10287764449179186\n",
            "sepal width (cm) 0.025498188210672703\n",
            "petal length (cm) 0.4308152387194749\n",
            "petal width (cm) 0.44080892857806037\n"
          ],
          "name": "stdout"
        }
      ]
    },
    {
      "cell_type": "markdown",
      "metadata": {
        "id": "u76YnMGxW3fv"
      },
      "source": [
        "에이다부스트"
      ]
    },
    {
      "cell_type": "code",
      "metadata": {
        "colab": {
          "base_uri": "https://localhost:8080/"
        },
        "id": "2iKhWpGtW-ki",
        "outputId": "7a05d900-721e-4d93-ad4f-17a13ad90b2b"
      },
      "source": [
        "from sklearn.ensemble import AdaBoostClassifier\n",
        "\n",
        "ada_clf=AdaBoostClassifier(\n",
        "    DecisionTreeClassifier(max_depth=1),n_estimators=200,\n",
        "    algorithm=\"SAMME.R\",learning_rate=0.5)\n",
        "ada_clf.fit(X_train,y_train)"
      ],
      "execution_count": 15,
      "outputs": [
        {
          "output_type": "execute_result",
          "data": {
            "text/plain": [
              "AdaBoostClassifier(algorithm='SAMME.R',\n",
              "                   base_estimator=DecisionTreeClassifier(ccp_alpha=0.0,\n",
              "                                                         class_weight=None,\n",
              "                                                         criterion='gini',\n",
              "                                                         max_depth=1,\n",
              "                                                         max_features=None,\n",
              "                                                         max_leaf_nodes=None,\n",
              "                                                         min_impurity_decrease=0.0,\n",
              "                                                         min_impurity_split=None,\n",
              "                                                         min_samples_leaf=1,\n",
              "                                                         min_samples_split=2,\n",
              "                                                         min_weight_fraction_leaf=0.0,\n",
              "                                                         presort='deprecated',\n",
              "                                                         random_state=None,\n",
              "                                                         splitter='best'),\n",
              "                   learning_rate=0.5, n_estimators=200, random_state=None)"
            ]
          },
          "metadata": {
            "tags": []
          },
          "execution_count": 15
        }
      ]
    },
    {
      "cell_type": "markdown",
      "metadata": {
        "id": "aawTy5SjXmrj"
      },
      "source": [
        "그레디언트 부스팅"
      ]
    },
    {
      "cell_type": "code",
      "metadata": {
        "id": "MPKr_40FW-qx"
      },
      "source": [
        "np.random.seed(42)\n",
        "X = np.random.rand(100, 1) - 0.5\n",
        "y = 3*X[:, 0]**2 + 0.05 * np.random.randn(100)"
      ],
      "execution_count": 16,
      "outputs": []
    },
    {
      "cell_type": "code",
      "metadata": {
        "colab": {
          "base_uri": "https://localhost:8080/"
        },
        "id": "iKsKfENqYiul",
        "outputId": "8562cfe1-7e6e-4b8c-bb7d-848dbd46eca2"
      },
      "source": [
        "from sklearn.tree import DecisionTreeRegressor\n",
        "\n",
        "tree_reg1 = DecisionTreeRegressor(max_depth=2, random_state=42)\n",
        "tree_reg1.fit(X, y)"
      ],
      "execution_count": 17,
      "outputs": [
        {
          "output_type": "execute_result",
          "data": {
            "text/plain": [
              "DecisionTreeRegressor(ccp_alpha=0.0, criterion='mse', max_depth=2,\n",
              "                      max_features=None, max_leaf_nodes=None,\n",
              "                      min_impurity_decrease=0.0, min_impurity_split=None,\n",
              "                      min_samples_leaf=1, min_samples_split=2,\n",
              "                      min_weight_fraction_leaf=0.0, presort='deprecated',\n",
              "                      random_state=42, splitter='best')"
            ]
          },
          "metadata": {
            "tags": []
          },
          "execution_count": 17
        }
      ]
    },
    {
      "cell_type": "code",
      "metadata": {
        "colab": {
          "base_uri": "https://localhost:8080/"
        },
        "id": "nBuWp3OvYrAO",
        "outputId": "d166244f-e022-46a7-fb9f-40e1d11c4726"
      },
      "source": [
        "y2=y-tree_reg1.predict(X)\n",
        "tree_reg2 = DecisionTreeRegressor(max_depth=2, random_state=42)\n",
        "tree_reg2.fit(X, y2)"
      ],
      "execution_count": 19,
      "outputs": [
        {
          "output_type": "execute_result",
          "data": {
            "text/plain": [
              "DecisionTreeRegressor(ccp_alpha=0.0, criterion='mse', max_depth=2,\n",
              "                      max_features=None, max_leaf_nodes=None,\n",
              "                      min_impurity_decrease=0.0, min_impurity_split=None,\n",
              "                      min_samples_leaf=1, min_samples_split=2,\n",
              "                      min_weight_fraction_leaf=0.0, presort='deprecated',\n",
              "                      random_state=42, splitter='best')"
            ]
          },
          "metadata": {
            "tags": []
          },
          "execution_count": 19
        }
      ]
    },
    {
      "cell_type": "code",
      "metadata": {
        "colab": {
          "base_uri": "https://localhost:8080/"
        },
        "id": "MalrT7a8Yq-U",
        "outputId": "fd852641-b626-4125-8d8b-8671ee563e91"
      },
      "source": [
        "y3=y2-tree_reg2.predict(X)\n",
        "tree_reg3 = DecisionTreeRegressor(max_depth=2, random_state=42)\n",
        "tree_reg3.fit(X, y3)"
      ],
      "execution_count": 20,
      "outputs": [
        {
          "output_type": "execute_result",
          "data": {
            "text/plain": [
              "DecisionTreeRegressor(ccp_alpha=0.0, criterion='mse', max_depth=2,\n",
              "                      max_features=None, max_leaf_nodes=None,\n",
              "                      min_impurity_decrease=0.0, min_impurity_split=None,\n",
              "                      min_samples_leaf=1, min_samples_split=2,\n",
              "                      min_weight_fraction_leaf=0.0, presort='deprecated',\n",
              "                      random_state=42, splitter='best')"
            ]
          },
          "metadata": {
            "tags": []
          },
          "execution_count": 20
        }
      ]
    },
    {
      "cell_type": "code",
      "metadata": {
        "id": "qhrChGlJZTcd"
      },
      "source": [
        "X_new = np.array([[0.8]])"
      ],
      "execution_count": 22,
      "outputs": []
    },
    {
      "cell_type": "code",
      "metadata": {
        "colab": {
          "base_uri": "https://localhost:8080/"
        },
        "id": "iMwjLvY7ZA2u",
        "outputId": "4e81fbc0-60dd-409c-a66e-c35e8b2735c3"
      },
      "source": [
        "y_pred=sum(tree.predict(X_new) for tree in (tree_reg1,tree_reg2,tree_reg3))\n",
        "y_pred"
      ],
      "execution_count": 24,
      "outputs": [
        {
          "output_type": "execute_result",
          "data": {
            "text/plain": [
              "array([0.75026781])"
            ]
          },
          "metadata": {
            "tags": []
          },
          "execution_count": 24
        }
      ]
    },
    {
      "cell_type": "code",
      "metadata": {
        "colab": {
          "base_uri": "https://localhost:8080/"
        },
        "id": "tgvsYOCSZVAw",
        "outputId": "f74d8574-ddd1-4a91-8f53-205e0e1df0d9"
      },
      "source": [
        "from sklearn.ensemble import GradientBoostingRegressor\n",
        "\n",
        "gbrt=GradientBoostingRegressor(max_depth=2,n_estimators=3,learning_rate=1.0)\n",
        "gbrt.fit(X,y)"
      ],
      "execution_count": 25,
      "outputs": [
        {
          "output_type": "execute_result",
          "data": {
            "text/plain": [
              "GradientBoostingRegressor(alpha=0.9, ccp_alpha=0.0, criterion='friedman_mse',\n",
              "                          init=None, learning_rate=1.0, loss='ls', max_depth=2,\n",
              "                          max_features=None, max_leaf_nodes=None,\n",
              "                          min_impurity_decrease=0.0, min_impurity_split=None,\n",
              "                          min_samples_leaf=1, min_samples_split=2,\n",
              "                          min_weight_fraction_leaf=0.0, n_estimators=3,\n",
              "                          n_iter_no_change=None, presort='deprecated',\n",
              "                          random_state=None, subsample=1.0, tol=0.0001,\n",
              "                          validation_fraction=0.1, verbose=0, warm_start=False)"
            ]
          },
          "metadata": {
            "tags": []
          },
          "execution_count": 25
        }
      ]
    },
    {
      "cell_type": "code",
      "metadata": {
        "colab": {
          "base_uri": "https://localhost:8080/"
        },
        "id": "twMPboTWaAEV",
        "outputId": "beeb0ae0-8a1c-4abc-de6e-f893a28880f7"
      },
      "source": [
        "gbrt.predict(X_new)"
      ],
      "execution_count": 26,
      "outputs": [
        {
          "output_type": "execute_result",
          "data": {
            "text/plain": [
              "array([0.75026781])"
            ]
          },
          "metadata": {
            "tags": []
          },
          "execution_count": 26
        }
      ]
    },
    {
      "cell_type": "markdown",
      "metadata": {
        "id": "n7oG7_UHaNZK"
      },
      "source": [
        "조기종료 사용한 그레디언트 부스팅"
      ]
    },
    {
      "cell_type": "code",
      "metadata": {
        "colab": {
          "base_uri": "https://localhost:8080/"
        },
        "id": "uxWuZ-R3aGo_",
        "outputId": "69eacf4c-019d-4f30-d680-1c4677ed5309"
      },
      "source": [
        "import numpy as np\n",
        "from sklearn.model_selection import train_test_split\n",
        "from sklearn.metrics import mean_squared_error\n",
        "\n",
        "X_train, X_val, y_train, y_val = train_test_split(X, y, random_state=49)\n",
        "\n",
        "gbrt = GradientBoostingRegressor(max_depth=2, n_estimators=120, random_state=42)\n",
        "gbrt.fit(X_train, y_train)\n",
        "\n",
        "errors = [mean_squared_error(y_val, y_pred)\n",
        "          for y_pred in gbrt.staged_predict(X_val)]\n",
        "bst_n_estimators = np.argmin(errors) + 1\n",
        "\n",
        "gbrt_best = GradientBoostingRegressor(max_depth=2, n_estimators=bst_n_estimators, random_state=42)\n",
        "gbrt_best.fit(X_train, y_train)"
      ],
      "execution_count": 27,
      "outputs": [
        {
          "output_type": "execute_result",
          "data": {
            "text/plain": [
              "GradientBoostingRegressor(alpha=0.9, ccp_alpha=0.0, criterion='friedman_mse',\n",
              "                          init=None, learning_rate=0.1, loss='ls', max_depth=2,\n",
              "                          max_features=None, max_leaf_nodes=None,\n",
              "                          min_impurity_decrease=0.0, min_impurity_split=None,\n",
              "                          min_samples_leaf=1, min_samples_split=2,\n",
              "                          min_weight_fraction_leaf=0.0, n_estimators=56,\n",
              "                          n_iter_no_change=None, presort='deprecated',\n",
              "                          random_state=42, subsample=1.0, tol=0.0001,\n",
              "                          validation_fraction=0.1, verbose=0, warm_start=False)"
            ]
          },
          "metadata": {
            "tags": []
          },
          "execution_count": 27
        }
      ]
    },
    {
      "cell_type": "code",
      "metadata": {
        "id": "gPvg5TvYa2_1"
      },
      "source": [
        "gbrt = GradientBoostingRegressor(max_depth=2, warm_start=True, random_state=42)\n",
        "\n",
        "min_val_error = float(\"inf\")\n",
        "error_going_up = 0\n",
        "for n_estimators in range(1, 120):\n",
        "    gbrt.n_estimators = n_estimators\n",
        "    gbrt.fit(X_train, y_train)\n",
        "    y_pred = gbrt.predict(X_val)\n",
        "    val_error = mean_squared_error(y_val, y_pred)\n",
        "    if val_error < min_val_error:\n",
        "        min_val_error = val_error\n",
        "        error_going_up = 0\n",
        "    else:\n",
        "        error_going_up += 1\n",
        "        if error_going_up == 5:\n",
        "            break  # early stopping"
      ],
      "execution_count": 28,
      "outputs": []
    },
    {
      "cell_type": "code",
      "metadata": {
        "colab": {
          "base_uri": "https://localhost:8080/"
        },
        "id": "-WcJareVbPVE",
        "outputId": "a3c6d813-c88b-4958-90fb-e53ff169c985"
      },
      "source": [
        "print(gbrt.n_estimators)"
      ],
      "execution_count": 29,
      "outputs": [
        {
          "output_type": "stream",
          "text": [
            "61\n"
          ],
          "name": "stdout"
        }
      ]
    },
    {
      "cell_type": "code",
      "metadata": {
        "colab": {
          "base_uri": "https://localhost:8080/"
        },
        "id": "EedID76MbQ4i",
        "outputId": "847d6550-a125-4dc9-c643-269129c05430"
      },
      "source": [
        "print(min_val_error)"
      ],
      "execution_count": 31,
      "outputs": [
        {
          "output_type": "stream",
          "text": [
            "0.002712853325235463\n"
          ],
          "name": "stdout"
        }
      ]
    },
    {
      "cell_type": "markdown",
      "metadata": {
        "id": "IbsoXOtNbeeW"
      },
      "source": [
        "XGBoost"
      ]
    },
    {
      "cell_type": "code",
      "metadata": {
        "colab": {
          "base_uri": "https://localhost:8080/"
        },
        "id": "fzeiUUkbbeIu",
        "outputId": "ba6a9a6b-60b2-4a89-b87b-8b3161fc1dd7"
      },
      "source": [
        "import xgboost\n",
        "\n",
        "xgb_reg=xgboost.XGBRegressor()\n",
        "xgb_reg.fit(X_train,y_train,eval_set=[(X_val,y_val)],early_stopping_rounds=2)\n",
        "y_pred=xgb_reg.predict(X_val)"
      ],
      "execution_count": 33,
      "outputs": [
        {
          "output_type": "stream",
          "text": [
            "[07:20:04] WARNING: /workspace/src/objective/regression_obj.cu:152: reg:linear is now deprecated in favor of reg:squarederror.\n",
            "[0]\tvalidation_0-rmse:0.286719\n",
            "Will train until validation_0-rmse hasn't improved in 2 rounds.\n",
            "[1]\tvalidation_0-rmse:0.258221\n",
            "[2]\tvalidation_0-rmse:0.232634\n",
            "[3]\tvalidation_0-rmse:0.210526\n",
            "[4]\tvalidation_0-rmse:0.190232\n",
            "[5]\tvalidation_0-rmse:0.172196\n",
            "[6]\tvalidation_0-rmse:0.156394\n",
            "[7]\tvalidation_0-rmse:0.142241\n",
            "[8]\tvalidation_0-rmse:0.129789\n",
            "[9]\tvalidation_0-rmse:0.118752\n",
            "[10]\tvalidation_0-rmse:0.108388\n",
            "[11]\tvalidation_0-rmse:0.100155\n",
            "[12]\tvalidation_0-rmse:0.09208\n",
            "[13]\tvalidation_0-rmse:0.084791\n",
            "[14]\tvalidation_0-rmse:0.078699\n",
            "[15]\tvalidation_0-rmse:0.073248\n",
            "[16]\tvalidation_0-rmse:0.069391\n",
            "[17]\tvalidation_0-rmse:0.066277\n",
            "[18]\tvalidation_0-rmse:0.063458\n",
            "[19]\tvalidation_0-rmse:0.060326\n",
            "[20]\tvalidation_0-rmse:0.0578\n",
            "[21]\tvalidation_0-rmse:0.055643\n",
            "[22]\tvalidation_0-rmse:0.053943\n",
            "[23]\tvalidation_0-rmse:0.053138\n",
            "[24]\tvalidation_0-rmse:0.052415\n",
            "[25]\tvalidation_0-rmse:0.051821\n",
            "[26]\tvalidation_0-rmse:0.051226\n",
            "[27]\tvalidation_0-rmse:0.051135\n",
            "[28]\tvalidation_0-rmse:0.05091\n",
            "[29]\tvalidation_0-rmse:0.050893\n",
            "[30]\tvalidation_0-rmse:0.050725\n",
            "[31]\tvalidation_0-rmse:0.050471\n",
            "[32]\tvalidation_0-rmse:0.050285\n",
            "[33]\tvalidation_0-rmse:0.050492\n",
            "[34]\tvalidation_0-rmse:0.050348\n",
            "Stopping. Best iteration:\n",
            "[32]\tvalidation_0-rmse:0.050285\n",
            "\n"
          ],
          "name": "stdout"
        }
      ]
    },
    {
      "cell_type": "code",
      "metadata": {
        "id": "HhKOE090cP6O",
        "outputId": "f844df9b-d270-40b8-9aa3-6bd21ef8c2a4",
        "colab": {
          "base_uri": "https://localhost:8080/"
        }
      },
      "source": [
        "y_pred"
      ],
      "execution_count": 34,
      "outputs": [
        {
          "output_type": "execute_result",
          "data": {
            "text/plain": [
              "array([0.18973109, 0.18973109, 0.01881704, 0.18973109, 0.07147765,\n",
              "       0.01881704, 0.01881704, 0.10975733, 0.6113558 , 0.5718203 ,\n",
              "       0.3717185 , 0.27868932, 0.3717185 , 0.02821323, 0.57766795,\n",
              "       0.10975733, 0.13498351, 0.04095137, 0.57766795, 0.01881704,\n",
              "       0.18973109, 0.57766795, 0.2396613 , 0.43527454, 0.66054046],\n",
              "      dtype=float32)"
            ]
          },
          "metadata": {
            "tags": []
          },
          "execution_count": 34
        }
      ]
    }
  ]
}