{
  "nbformat": 4,
  "nbformat_minor": 0,
  "metadata": {
    "colab": {
      "name": "ch4_exercise12.ipynb",
      "provenance": [],
      "collapsed_sections": []
    },
    "kernelspec": {
      "name": "python3",
      "display_name": "Python 3"
    },
    "language_info": {
      "name": "python"
    }
  },
  "cells": [
    {
      "cell_type": "markdown",
      "metadata": {
        "id": "QwIIoLhZt1HY"
      },
      "source": [
        "참고 : https://leechamin.tistory.com/79"
      ]
    },
    {
      "cell_type": "code",
      "metadata": {
        "id": "3vLF9Q8BhaB5"
      },
      "source": [
        "import pandas as pd\n",
        "import numpy as np\n",
        "import matplotlib.pyplot as plt\n",
        "from sklearn import datasets\n",
        "iris=datasets.load_iris()"
      ],
      "execution_count": 44,
      "outputs": []
    },
    {
      "cell_type": "code",
      "metadata": {
        "id": "25tMoGo_iZU0"
      },
      "source": [
        "X = iris['data'][:,(2,3)]  # 꽃잎 길이, 꽃잎 넓이\n",
        "Y = iris['target']\n",
        "X= np.c_[np.ones([len(X),1]),X]   "
      ],
      "execution_count": 45,
      "outputs": []
    },
    {
      "cell_type": "code",
      "metadata": {
        "colab": {
          "base_uri": "https://localhost:8080/"
        },
        "id": "2ZfuP80AJz_h",
        "outputId": "d626b9f3-07fe-4bce-b869-1677b1bad7dc"
      },
      "source": [
        "X.shape"
      ],
      "execution_count": 46,
      "outputs": [
        {
          "output_type": "execute_result",
          "data": {
            "text/plain": [
              "(150, 3)"
            ]
          },
          "metadata": {
            "tags": []
          },
          "execution_count": 46
        }
      ]
    },
    {
      "cell_type": "code",
      "metadata": {
        "id": "If4HdOQ8iZSS"
      },
      "source": [
        "from sklearn.model_selection import train_test_split\n",
        "x,test_x,y,test_y=train_test_split(X,Y,test_size=0.2,random_state=42)\n",
        "train_x,val_x,train_y,val_y=train_test_split(x,y,test_size=0.2,random_state=42)"
      ],
      "execution_count": 47,
      "outputs": []
    },
    {
      "cell_type": "code",
      "metadata": {
        "id": "-DD-tOu_iZOt"
      },
      "source": [
        "from sklearn.preprocessing import OneHotEncoder\n",
        "onehot=OneHotEncoder()\n",
        "train_y=onehot.fit_transform(train_y.reshape(train_y.shape[0],1)).toarray()\n",
        "val_y=onehot.fit_transform(val_y.reshape(val_y.shape[0],1)).toarray()\n",
        "test_y=onehot.transform(test_y.reshape(test_y.shape[0],1)).toarray()"
      ],
      "execution_count": 48,
      "outputs": []
    },
    {
      "cell_type": "code",
      "metadata": {
        "id": "hNmrfOCmiZLV"
      },
      "source": [
        "def softmaxscore(x,theta):\n",
        "  return x.dot(theta)\n",
        "\n",
        "def softmax(logits):\n",
        "  exps = np.exp(logits)\n",
        "  exp_sums = np.sum(exps,axis=1,keepdims=True)\n",
        "  return exps/exp_sums"
      ],
      "execution_count": 49,
      "outputs": []
    },
    {
      "cell_type": "code",
      "metadata": {
        "id": "vsfR48dmiZIJ"
      },
      "source": [
        "def gradientdescent(x,y,lr,n_estimate):\n",
        "  np.random.seed(42)\n",
        "  m=len(x)\n",
        "  theta=np.random.randn(x.shape[1],len(np.unique(y,axis=0)))\n",
        "\n",
        "  for i in range(n_estimate):\n",
        "    y_prob=softmax(softmaxscore(x,theta))\n",
        "    loss=-np.mean(np.sum(y*np.log(y_prob), axis=1))\n",
        "    error=y_prob-y\n",
        "    if i % 10000 == 0:\n",
        "        print(i,loss)\n",
        "    gradients=1/m*x.T.dot(error)\n",
        "    theta=theta-lr*gradients\n",
        "  return theta"
      ],
      "execution_count": 122,
      "outputs": []
    },
    {
      "cell_type": "code",
      "metadata": {
        "id": "zhli5p_QcLcT"
      },
      "source": [
        "def predict(x,y,theta):\n",
        "  y_prob=softmax(softmaxscore(x,theta))\n",
        "  y_predict=np.argmax(y_prob,axis=1)\n",
        "  accuracy=np.mean(y_predict==np.argmax(y,axis=1))\n",
        "  return accuracy"
      ],
      "execution_count": 123,
      "outputs": []
    },
    {
      "cell_type": "code",
      "metadata": {
        "colab": {
          "base_uri": "https://localhost:8080/"
        },
        "id": "EW-AxO2aiZFG",
        "outputId": "c123eaeb-3d99-4341-a0b4-760da2d2d5c5"
      },
      "source": [
        "theta=gradientdescent(train_x,train_y,0.1,500001)\n",
        "theta"
      ],
      "execution_count": 124,
      "outputs": [
        {
          "output_type": "stream",
          "text": [
            "0 7.727114466833609\n",
            "10000 0.13517000587418598\n",
            "20000 0.1110393182911033\n",
            "30000 0.10141374957882815\n",
            "40000 0.09619988745021706\n",
            "50000 0.09294882925255843\n",
            "60000 0.09074761406144653\n",
            "70000 0.08917371455917734\n",
            "80000 0.08800364217309546\n",
            "90000 0.08710786367880675\n",
            "100000 0.08640611313740458\n",
            "110000 0.08584604788035721\n",
            "120000 0.08539213018651459\n",
            "130000 0.08501943104273106\n",
            "140000 0.08470998479551754\n",
            "150000 0.08445054702494707\n",
            "160000 0.08423116324677304\n",
            "170000 0.08404422591262885\n",
            "180000 0.08388383602410848\n",
            "190000 0.08374536064418876\n",
            "200000 0.0836251197785316\n",
            "210000 0.08352016071112152\n",
            "220000 0.08342809269672095\n",
            "230000 0.08334696408650961\n",
            "240000 0.08327516978587289\n",
            "250000 0.08321138072221847\n",
            "260000 0.08315448950311444\n",
            "270000 0.0831035681326781\n",
            "280000 0.08305783481137505\n",
            "290000 0.0830166276500897\n",
            "300000 0.08297938369817548\n",
            "310000 0.08294562209202504\n",
            "320000 0.08291493042515048\n",
            "330000 0.0828869536562395\n",
            "340000 0.08286138503096989\n",
            "350000 0.08283795861228872\n",
            "360000 0.08281644310343539\n",
            "370000 0.0827966367160201\n",
            "380000 0.0827783628875491\n",
            "390000 0.08276146669295237\n",
            "400000 0.08274581182585991\n",
            "410000 0.08273127804975433\n",
            "420000 0.08271775903830388\n",
            "430000 0.082705160539354\n",
            "440000 0.0826933988091242\n",
            "450000 0.08268239927281272\n",
            "460000 0.08267209537556873\n",
            "470000 0.08266242759406038\n",
            "480000 0.08265334258394809\n",
            "490000 0.08264479244271536\n",
            "500000 0.08263673407069687\n"
          ],
          "name": "stdout"
        },
        {
          "output_type": "execute_result",
          "data": {
            "text/plain": [
              "array([[ 26.36917275,   7.72298338, -33.08601774],\n",
              "       [ -4.85726959,   0.1404904 ,   5.77151872],\n",
              "       [ -7.84016161,   0.67626342,   9.04107135]])"
            ]
          },
          "metadata": {
            "tags": []
          },
          "execution_count": 124
        }
      ]
    },
    {
      "cell_type": "code",
      "metadata": {
        "id": "NQqnY-AMiZB6",
        "colab": {
          "base_uri": "https://localhost:8080/"
        },
        "outputId": "8ae95c83-acb5-438e-eb00-506c7d717b2a"
      },
      "source": [
        "predict(val_x,val_y,theta)"
      ],
      "execution_count": 125,
      "outputs": [
        {
          "output_type": "execute_result",
          "data": {
            "text/plain": [
              "0.9583333333333334"
            ]
          },
          "metadata": {
            "tags": []
          },
          "execution_count": 125
        }
      ]
    },
    {
      "cell_type": "code",
      "metadata": {
        "id": "hcCYcX7SiY_Z"
      },
      "source": [
        "#조기종료 추가\n",
        "def gradientdescentEarlystop(x,y,val_x,val_y,lr,n_estimate):\n",
        "  np.random.seed(42)\n",
        "  m=len(x)\n",
        "  min_loss=float(\"inf\")\n",
        "  theta=np.random.randn(x.shape[1],len(np.unique(y,axis=0)))\n",
        "\n",
        "  for i in range(n_estimate):\n",
        "    y_prob=softmax(softmaxscore(x,theta))\n",
        "    loss=-np.mean(np.sum(y*np.log(y_prob), axis=1))\n",
        "    error=y_prob-y\n",
        "    if i % 10000 == 0:\n",
        "        print(i,loss)\n",
        "    gradients=1/m*x.T.dot(error)\n",
        "    theta=theta-lr*gradients\n",
        "\n",
        "    y_prob=softmax(softmaxscore(val_x,theta))\n",
        "    y_predict=np.argmax(y_prob,axis=1)\n",
        "    val_loss = -np.mean(np.sum(val_y*np.log(y_prob), axis=1))\n",
        "    if val_loss < min_loss:\n",
        "        min_loss = val_loss\n",
        "    else:\n",
        "        print(i-1, min_loss)\n",
        "        print(i,val_loss,\"Early Stopping!\")\n",
        "        return theta\n",
        "  return theta"
      ],
      "execution_count": 126,
      "outputs": []
    },
    {
      "cell_type": "code",
      "metadata": {
        "id": "NSxLK5syiY7d",
        "colab": {
          "base_uri": "https://localhost:8080/"
        },
        "outputId": "fb91bfdf-938f-4c2f-dd84-23824cf76b8b"
      },
      "source": [
        "theta=gradientdescentEarlystop(train_x,train_y,val_x,val_y,0.1,500001)"
      ],
      "execution_count": 127,
      "outputs": [
        {
          "output_type": "stream",
          "text": [
            "0 7.727114466833609\n",
            "10000 0.13517000587418598\n",
            "20000 0.1110393182911033\n",
            "30000 0.10141374957882815\n",
            "40000 0.09619988745021706\n",
            "50000 0.09294882925255843\n",
            "60000 0.09074761406144653\n",
            "70000 0.08917371455917734\n",
            "80000 0.08800364217309546\n",
            "90000 0.08710786367880675\n",
            "100000 0.08640611313740458\n",
            "110000 0.08584604788035721\n",
            "120000 0.08539213018651459\n",
            "130000 0.08501943104273106\n",
            "140000 0.08470998479551754\n",
            "150000 0.08445054702494707\n",
            "160000 0.08423116324677304\n",
            "170000 0.08404422591262885\n",
            "177441 0.09031374646038946\n",
            "177442 0.09031374646039035 Early Stopping!\n"
          ],
          "name": "stdout"
        }
      ]
    },
    {
      "cell_type": "code",
      "metadata": {
        "id": "C8_mh8qHiY4N",
        "colab": {
          "base_uri": "https://localhost:8080/"
        },
        "outputId": "d6a91a2e-a92c-4233-8a05-bbfb568d968a"
      },
      "source": [
        "predict(val_x,val_y,theta)"
      ],
      "execution_count": 128,
      "outputs": [
        {
          "output_type": "execute_result",
          "data": {
            "text/plain": [
              "0.9583333333333334"
            ]
          },
          "metadata": {
            "tags": []
          },
          "execution_count": 128
        }
      ]
    },
    {
      "cell_type": "code",
      "metadata": {
        "id": "tenta9qZiY03",
        "colab": {
          "base_uri": "https://localhost:8080/"
        },
        "outputId": "c976a3f3-96b3-467c-eb7c-78cc9933dd1f"
      },
      "source": [
        "predict(test_x,test_y,theta)"
      ],
      "execution_count": 129,
      "outputs": [
        {
          "output_type": "execute_result",
          "data": {
            "text/plain": [
              "1.0"
            ]
          },
          "metadata": {
            "tags": []
          },
          "execution_count": 129
        }
      ]
    }
  ]
}